{
 "cells": [
  {
   "attachments": {},
   "cell_type": "markdown",
   "metadata": {},
   "source": [
    "### Thermal convection between advanced furnace and its closed surrounding     \n",
    "\n",
    "Two assumptions:\n",
    "\n",
    "- $T_1 = T_2$ the final temperature become equal  \n",
    "- $\\varDelta J_1 = -\\varDelta J_2 + \\delta J$   \n",
    "where $\\delta J$ tends to 0 - the energy saving law  \n",
    "\n",
    "Then the final temperature for furnace and surrounding can be   expressed like:  \n",
    "$T_1 = T_1^0 + \\varDelta T_1$  \n",
    "$T_2 = T_2^0 + \\varDelta T_2$  \n",
    "or  \n",
    "$T_1^0 + \\varDelta T_1 = T_2^0 + \\varDelta T_2$  \n",
    "And we can express the one temperature change over another  \n",
    "$\\varDelta T_2 = \\varDelta T_1 + (T_1^0 - T_2^0)$  \n",
    "\n",
    "The molar heat capacity:  $J⋅K^{−1}⋅mol^{−1}$:  \n",
    "$c = \\cfrac{\\varDelta Q}{n \\varDelta T}$  \n",
    "\n",
    "So the  \n",
    "$\\varDelta T = \\cfrac{Q}{n c}$  \n",
    "\n",
    "And   \n",
    "$\\varDelta J \\equiv \\varDelta Q$  \n",
    "\n",
    "Express the temp difference through energy  \n",
    "$\\varDelta T_1 = \\cfrac{\\varDelta J_1}{n_1 c_1}$  \n",
    "$\\varDelta T_2 = -\\cfrac{\\varDelta J_1}{n_2 c_2}$  \n",
    "\n",
    "And put it into equation for temperature change:  \n",
    "$-\\cfrac{\\varDelta J_1}{n_2 c_2} = \\cfrac{\\varDelta J_1}{n_1 c_1} + (T_1^0 - T_2^0)$  \n",
    "Solve it somehow  \n",
    "$\\varDelta J_1 (\\cfrac{1}{n_2 c_2} + \\cfrac{1}{n_1 c_1}) = (T_2^0 - T_1^0)$   \n",
    "\n",
    "And get the result formula of energy delta:  \n",
    "$\\boxed{\\varDelta J_1 = \\cfrac{T_2^0 - T_1^0}{\\cfrac{1}{n_2 c_2} + \\cfrac{1}{n_1 c_1}}}$  \n",
    "\n",
    "Having this we can calculate the temperature change and the final temperature point \n",
    "\n",
    "The formula for ideal gas is:  \n",
    "$P⋅V = n⋅R⋅T$   \n",
    "where R = 8.31446261815324\n",
    "\n",
    "$V = \\cfrac{n⋅R⋅T}{P}$"
   ]
  },
  {
   "cell_type": "code",
   "execution_count": 2,
   "metadata": {},
   "outputs": [],
   "source": [
    "R = 8.31446261815324\n",
    "K0 = 273.15\n",
    "kPa_mul = 1000 \n",
    "Vf = 1000\n",
    "Vs = 8800\n",
    "CO2hc = 28.3\n",
    "N2hc = 20.6\n",
    "\n",
    "def ideal_gas_moles(kPa, Tc, Vl):\n",
    "    Tk = Tc + K0\n",
    "    return kPa * Vl / ( R * Tk )\n",
    "\n",
    "def ideal_gas_volume(kPa, Tc, n):\n",
    "    Tk = Tc + K0\n",
    "    return ( R * Tk * n ) / kPa\n"
   ]
  },
  {
   "cell_type": "markdown",
   "metadata": {},
   "source": [
    "### Set the parameters of furnace and surrounding"
   ]
  },
  {
   "cell_type": "code",
   "execution_count": 3,
   "metadata": {},
   "outputs": [],
   "source": [
    "Tf = 2052\n",
    "Pf = 1200\n",
    "Ts = 29\n",
    "Ps = 30"
   ]
  },
  {
   "cell_type": "markdown",
   "metadata": {},
   "source": [
    "### Calculate $\\varDelta J$"
   ]
  },
  {
   "cell_type": "code",
   "execution_count": 4,
   "metadata": {},
   "outputs": [
    {
     "name": "stdout",
     "output_type": "stream",
     "text": [
      "-2222686.8954775007\n",
      "62.072049567241365\n"
     ]
    }
   ],
   "source": [
    "nf = ideal_gas_moles(Pf, Tf, Vf)\n",
    "ns = ideal_gas_moles(Ps, Ts, Vs)\n",
    "cf = CO2hc\n",
    "cs = CO2hc * 0.95 + N2hc * 0.05\n",
    "dJf = (Ts - Tf) / ( ( 1 / ( ns * cs) ) + ( 1 / (nf * cf) ) )\n",
    "print(dJf)\n",
    "print(nf)"
   ]
  },
  {
   "cell_type": "markdown",
   "metadata": {},
   "source": [
    "### Calculate $\\varDelta T$"
   ]
  },
  {
   "cell_type": "code",
   "execution_count": 5,
   "metadata": {},
   "outputs": [
    {
     "name": "stdout",
     "output_type": "stream",
     "text": [
      "-1265.3065837626282\n",
      "757.6934162373717\n"
     ]
    }
   ],
   "source": [
    "dTf = dJf / ( nf * cf )\n",
    "dTs = -dJf / ( ns * cs )\n",
    "print(dTf)\n",
    "print(dTs)"
   ]
  },
  {
   "cell_type": "markdown",
   "metadata": {},
   "source": [
    "### Temperature"
   ]
  },
  {
   "cell_type": "code",
   "execution_count": 6,
   "metadata": {},
   "outputs": [
    {
     "name": "stdout",
     "output_type": "stream",
     "text": [
      "786.6934162373718\n",
      "786.6934162373717\n"
     ]
    }
   ],
   "source": [
    "Tf1 = Tf + dTf\n",
    "Ts1 = Ts + dTs\n",
    "print(Tf1)\n",
    "print(Ts1)"
   ]
  },
  {
   "cell_type": "code",
   "execution_count": 7,
   "metadata": {},
   "outputs": [
    {
     "name": "stdout",
     "output_type": "stream",
     "text": [
      "-246.69341623737182\n",
      "-433351.2766849305\n",
      "-0.3135826627573252\n"
     ]
    }
   ],
   "source": [
    "Tfr = 540\n",
    "dTr = Tfr - Tf1\n",
    "dJl = dTr * cf * nf\n",
    "print(dTr)\n",
    "print(dJl)\n",
    "dJlp = dJl / dJf\n",
    "dTfp = dTr / Tf1\n",
    "print(dTfp)"
   ]
  },
  {
   "attachments": {},
   "cell_type": "markdown",
   "metadata": {},
   "source": [
    "## Calculate volume for input storage\n"
   ]
  },
  {
   "cell_type": "code",
   "execution_count": 8,
   "metadata": {},
   "outputs": [
    {
     "name": "stdout",
     "output_type": "stream",
     "text": [
      "1200.008682972796\n"
     ]
    }
   ],
   "source": [
    "n = 409.16\n",
    "T = 2612.617\n",
    "P = 7406.597\n",
    "V = (n * R * T) / P\n",
    "print(V)"
   ]
  }
 ],
 "metadata": {
  "kernelspec": {
   "display_name": "Python 3.10.7 64-bit",
   "language": "python",
   "name": "python3"
  },
  "language_info": {
   "codemirror_mode": {
    "name": "ipython",
    "version": 3
   },
   "file_extension": ".py",
   "mimetype": "text/x-python",
   "name": "python",
   "nbconvert_exporter": "python",
   "pygments_lexer": "ipython3",
   "version": "3.10.7"
  },
  "orig_nbformat": 4,
  "vscode": {
   "interpreter": {
    "hash": "ed84121f55a71eacfa8bae3a8d2965bdf7d1696c087bc51e1146bc37261713ec"
   }
  }
 },
 "nbformat": 4,
 "nbformat_minor": 2
}
